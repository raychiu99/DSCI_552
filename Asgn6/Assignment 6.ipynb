{
 "cells": [
  {
   "attachments": {},
   "cell_type": "markdown",
   "metadata": {},
   "source": [
    "# Assignment 6\n"
   ]
  },
  {
   "attachments": {},
   "cell_type": "markdown",
   "metadata": {},
   "source": [
    "##Assignmnet 6 \n",
    "create a convolution neural network using the Fashion MNIST network"
   ]
  },
  {
   "cell_type": "code",
   "execution_count": 2,
   "metadata": {},
   "outputs": [],
   "source": [
    "from sklearn.datasets import load_sample_images\n",
    "import tensorflow as tf\n",
    "import numpy as np\n"
   ]
  },
  {
   "cell_type": "code",
   "execution_count": 3,
   "metadata": {},
   "outputs": [
    {
     "data": {
      "text/plain": [
       "array([[6],\n",
       "       [9],\n",
       "       [9],\n",
       "       ...,\n",
       "       [1],\n",
       "       [5],\n",
       "       [6]], dtype=uint8)"
      ]
     },
     "execution_count": 3,
     "metadata": {},
     "output_type": "execute_result"
    }
   ],
   "source": [
    "cifar10 = tf.keras.datasets.cifar10.load_data()\n",
    "(X_train_full, y_train_full), (X_test, y_test) = cifar10\n",
    "X_train_full = np.expand_dims(X_train_full, axis=-1).astype(np.float32) / 255\n",
    "X_test = np.expand_dims(X_test.astype(np.float32), axis=-1) / 255\n",
    "X_train, X_valid = X_train_full[:-5000], X_train_full[-5000:]\n",
    "y_train, y_valid = y_train_full[:-5000], y_train_full[-5000:]\n",
    "y_train"
   ]
  },
  {
   "cell_type": "code",
   "execution_count": 4,
   "metadata": {},
   "outputs": [
    {
     "data": {
      "text/plain": [
       "'frog'"
      ]
     },
     "execution_count": 4,
     "metadata": {},
     "output_type": "execute_result"
    }
   ],
   "source": [
    "class_names = [\"airplane\", \"automobile\", \"bird\", \"cat\", \"deer\", \"dog\", \"frog\", \"horse\", \"ship\", \"truck\"]\n",
    "class_names[y_train[0][0]]"
   ]
  },
  {
   "cell_type": "code",
   "execution_count": 5,
   "metadata": {},
   "outputs": [
    {
     "name": "stdout",
     "output_type": "stream",
     "text": [
      "Metal device set to: Apple M2 Pro\n",
      "\n",
      "systemMemory: 16.00 GB\n",
      "maxCacheSize: 5.33 GB\n",
      "\n"
     ]
    }
   ],
   "source": [
    "from functools import partial\n",
    "DefaultConv2D = partial(tf.keras.layers.Conv2D, kernel_size=3, padding=\"same\", activation=\"relu\", kernel_initializer=\"he_normal\")\n",
    "\n",
    "model = tf.keras.Sequential([\n",
    "    DefaultConv2D(filters=32, input_shape=[32, 32, 3]),\n",
    "    tf.keras.layers.MaxPooling2D(pool_size=2),\n",
    "    DefaultConv2D(filters=32),\n",
    "    tf.keras.layers.MaxPooling2D(pool_size=2),\n",
    "    DefaultConv2D(filters=64),\n",
    "    tf.keras.layers.MaxPooling2D(pool_size=2),\n",
    "    tf.keras.layers.Flatten(),\n",
    "    tf.keras.layers.Dense(units=64, activation=\"relu\", kernel_initializer=\"he_normal\"),\n",
    "    tf.keras.layers.Dense(units=10, activation=\"softmax\")\n",
    "])"
   ]
  },
  {
   "cell_type": "code",
   "execution_count": 6,
   "metadata": {},
   "outputs": [],
   "source": [
    "model.compile(loss=\"sparse_categorical_crossentropy\", optimizer=\"nadam\", metrics=[\"accuracy\"])\n"
   ]
  },
  {
   "cell_type": "code",
   "execution_count": 7,
   "metadata": {},
   "outputs": [
    {
     "name": "stdout",
     "output_type": "stream",
     "text": [
      "Epoch 1/10\n"
     ]
    },
    {
     "name": "stderr",
     "output_type": "stream",
     "text": [
      "2023-04-16 21:12:16.870322: W tensorflow/core/platform/profile_utils/cpu_utils.cc:128] Failed to get CPU frequency: 0 Hz\n"
     ]
    },
    {
     "name": "stdout",
     "output_type": "stream",
     "text": [
      "1407/1407 [==============================] - 19s 13ms/step - loss: 1.4110 - accuracy: 0.4901 - val_loss: 1.1472 - val_accuracy: 0.5928\n",
      "Epoch 2/10\n",
      "1407/1407 [==============================] - 19s 13ms/step - loss: 1.0173 - accuracy: 0.6415 - val_loss: 0.9966 - val_accuracy: 0.6582\n",
      "Epoch 3/10\n",
      "1407/1407 [==============================] - 18s 13ms/step - loss: 0.8553 - accuracy: 0.7003 - val_loss: 1.0425 - val_accuracy: 0.6318\n",
      "Epoch 4/10\n",
      "1407/1407 [==============================] - 17s 12ms/step - loss: 0.7583 - accuracy: 0.7355 - val_loss: 0.8188 - val_accuracy: 0.7238\n",
      "Epoch 5/10\n",
      "1407/1407 [==============================] - 18s 13ms/step - loss: 0.6883 - accuracy: 0.7599 - val_loss: 0.8697 - val_accuracy: 0.7168\n",
      "Epoch 6/10\n",
      "1407/1407 [==============================] - 18s 13ms/step - loss: 0.6270 - accuracy: 0.7799 - val_loss: 0.8146 - val_accuracy: 0.7294\n",
      "Epoch 7/10\n",
      "1407/1407 [==============================] - 18s 13ms/step - loss: 0.5788 - accuracy: 0.7963 - val_loss: 0.8647 - val_accuracy: 0.7100\n",
      "Epoch 8/10\n",
      "1407/1407 [==============================] - 18s 13ms/step - loss: 0.5312 - accuracy: 0.8129 - val_loss: 0.9093 - val_accuracy: 0.7146\n",
      "Epoch 9/10\n",
      "1407/1407 [==============================] - 18s 13ms/step - loss: 0.4932 - accuracy: 0.8264 - val_loss: 0.8618 - val_accuracy: 0.7302\n",
      "Epoch 10/10\n",
      "1407/1407 [==============================] - 18s 13ms/step - loss: 0.4572 - accuracy: 0.8383 - val_loss: 0.8631 - val_accuracy: 0.7308\n",
      "Wall time: 180.20745992660522\n",
      "CPU time: 248.169752\n"
     ]
    }
   ],
   "source": [
    "import time\n",
    "start_time = time.time()\n",
    "start_cpu_time = time.process_time()\n",
    "history = model.fit(X_train, y_train, epochs=10, validation_data=(X_valid, y_valid))\n",
    "\n",
    "end_time = time.time()\n",
    "end_cpu_time = time.process_time()\n",
    "\n",
    "wall_time = end_time - start_time\n",
    "cpu_time = end_cpu_time - start_cpu_time\n",
    "\n",
    "print(\"Wall time:\", wall_time)\n",
    "print(\"CPU time:\", cpu_time)"
   ]
  },
  {
   "cell_type": "code",
   "execution_count": 8,
   "metadata": {},
   "outputs": [
    {
     "name": "stdout",
     "output_type": "stream",
     "text": [
      "313/313 [==============================] - 1s 4ms/step - loss: 0.9169 - accuracy: 0.7080\n"
     ]
    }
   ],
   "source": [
    "score = model.evaluate(X_test, y_test)"
   ]
  },
  {
   "cell_type": "code",
   "execution_count": 9,
   "metadata": {},
   "outputs": [
    {
     "data": {
      "image/png": "[encoded data removed]",
      "text/plain": [
       "<Figure size 800x500 with 1 Axes>"
      ]
     },
     "metadata": {},
     "output_type": "display_data"
    }
   ],
   "source": [
    "import matplotlib.pyplot as plt\n",
    "import pandas as pd\n",
    "\n",
    "pd.DataFrame(history.history).plot(\n",
    "    figsize=(8, 5), xlim=[0, 10], ylim=[0, 1], grid=True, xlabel=\"Epoch\",\n",
    "    style=[\"r--\", \"r--.\", \"b-\", \"b-*\"])\n",
    "plt.show()"
   ]
  },
  {
   "cell_type": "code",
   "execution_count": 10,
   "metadata": {},
   "outputs": [
    {
     "name": "stdout",
     "output_type": "stream",
     "text": [
      "313/313 [==============================] - 1s 2ms/step\n"
     ]
    },
    {
     "data": {
      "text/plain": [
       "array([[0.04, 0.  , 0.  , ..., 0.  , 0.01, 0.  ],\n",
       "       [0.  , 0.01, 0.  , ..., 0.  , 0.99, 0.  ],\n",
       "       [0.02, 0.04, 0.  , ..., 0.01, 0.91, 0.  ],\n",
       "       ...,\n",
       "       [0.  , 0.  , 0.  , ..., 0.  , 0.  , 0.  ],\n",
       "       [0.01, 0.04, 0.  , ..., 0.  , 0.  , 0.  ],\n",
       "       [0.  , 0.  , 0.  , ..., 0.96, 0.  , 0.  ]], dtype=float32)"
      ]
     },
     "execution_count": 10,
     "metadata": {},
     "output_type": "execute_result"
    }
   ],
   "source": [
    "y_proba2 = model.predict(X_test)\n",
    "y_proba2.round(2)"
   ]
  },
  {
   "cell_type": "code",
   "execution_count": 11,
   "metadata": {},
   "outputs": [
    {
     "data": {
      "text/plain": [
       "array([3, 8, 8, ..., 5, 5, 7])"
      ]
     },
     "execution_count": 11,
     "metadata": {},
     "output_type": "execute_result"
    }
   ],
   "source": [
    "import numpy as np\n",
    "y_pred2 = y_proba2.argmax(axis=-1)\n",
    "y_pred2"
   ]
  },
  {
   "cell_type": "code",
   "execution_count": 12,
   "metadata": {},
   "outputs": [
    {
     "name": "stdout",
     "output_type": "stream",
     "text": [
      "Precision Score:  [0.74803922 0.7605042  0.68       0.54161641 0.64667291 0.49422336\n",
      " 0.81461287 0.85788114 0.80720545 0.8852459 ] \n",
      "Recall Score [0.763 0.905 0.561 0.449 0.69  0.77  0.747 0.664 0.829 0.702] \n",
      "Accuracy Score 0.708\n"
     ]
    }
   ],
   "source": [
    "from sklearn.metrics import precision_recall_fscore_support\n",
    "from sklearn.metrics import accuracy_score, precision_score,recall_score\n",
    "precision = precision_score(y_test, y_pred2, average= None)\n",
    "recall = recall_score(y_test, y_pred2, average= None)\n",
    "accuracy = accuracy_score(y_test,y_pred2)\n",
    "print(\"Precision Score: \",precision, \"\\nRecall Score\", recall,\"\\nAccuracy Score\",accuracy)"
   ]
  },
  {
   "cell_type": "code",
   "execution_count": 13,
   "metadata": {},
   "outputs": [
    {
     "name": "stdout",
     "output_type": "stream",
     "text": [
      "              precision    recall  f1-score   support\n",
      "\n",
      "    airplane       0.75      0.76      0.76      1000\n",
      "  automobile       0.76      0.91      0.83      1000\n",
      "        bird       0.68      0.56      0.61      1000\n",
      "         cat       0.54      0.45      0.49      1000\n",
      "        deer       0.65      0.69      0.67      1000\n",
      "         dog       0.49      0.77      0.60      1000\n",
      "        frog       0.81      0.75      0.78      1000\n",
      "       horse       0.86      0.66      0.75      1000\n",
      "        ship       0.81      0.83      0.82      1000\n",
      "       truck       0.89      0.70      0.78      1000\n",
      "\n",
      "    accuracy                           0.71     10000\n",
      "   macro avg       0.72      0.71      0.71     10000\n",
      "weighted avg       0.72      0.71      0.71     10000\n",
      "\n"
     ]
    }
   ],
   "source": [
    "from sklearn.metrics import classification_report\n",
    "print(classification_report(y_test, y_pred2, target_names=class_names))"
   ]
  }
 ],
 "metadata": {
  "kernelspec": {
   "display_name": "base",
   "language": "python",
   "name": "python3"
  },
  "language_info": {
   "codemirror_mode": {
    "name": "ipython",
    "version": 3
   },
   "file_extension": ".py",
   "mimetype": "text/x-python",
   "name": "python",
   "nbconvert_exporter": "python",
   "pygments_lexer": "ipython3",
   "version": "3.10.9"
  },
  "orig_nbformat": 4
 },
 "nbformat": 4,
 "nbformat_minor": 2
}
