{
 "cells": [
  {
   "attachments": {},
   "cell_type": "markdown",
   "metadata": {},
   "source": [
    "# Assignment 5 \n"
   ]
  },
  {
   "attachments": {},
   "cell_type": "markdown",
   "metadata": {},
   "source": [
    "Question 2 "
   ]
  },
  {
   "cell_type": "code",
   "execution_count": 44,
   "metadata": {},
   "outputs": [],
   "source": [
    "import tensorflow as tf\n",
    "\n",
    "fashion_mnist = tf.keras.datasets.fashion_mnist.load_data()\n",
    "(X_train_full, y_train_full), (X_test, y_test) = fashion_mnist \n",
    "X_train, y_train = X_train_full[:-5000], y_train_full[:-5000]\n",
    "X_valid, y_valid = X_train_full[-5000:], y_train_full[-5000:]"
   ]
  },
  {
   "cell_type": "code",
   "execution_count": 45,
   "metadata": {},
   "outputs": [
    {
     "data": {
      "text/plain": [
       "'Ankle boot'"
      ]
     },
     "execution_count": 45,
     "metadata": {},
     "output_type": "execute_result"
    }
   ],
   "source": [
    "X_train, X_valid, X_test = X_train / 255., X_valid / 255., X_test / 255.\n",
    "class_names = [\"T-shirt/top\", \"Trouser\", \"Pullover\", \"Dress\", \"Coat\",\n",
    "               \"Sandal\", \"Shirt\", \"Sneaker\", \"Bag\", \"Ankle boot\"]\n",
    "\n",
    "class_names[y_train[0]]"
   ]
  },
  {
   "cell_type": "code",
   "execution_count": 46,
   "metadata": {},
   "outputs": [
    {
     "name": "stdout",
     "output_type": "stream",
     "text": [
      "Model: \"sequential_2\"\n",
      "_________________________________________________________________\n",
      " Layer (type)                Output Shape              Param #   \n",
      "=================================================================\n",
      " flatten_2 (Flatten)         (None, 784)               0         \n",
      "                                                                 \n",
      " dense_6 (Dense)             (None, 300)               235500    \n",
      "                                                                 \n",
      " dense_7 (Dense)             (None, 100)               30100     \n",
      "                                                                 \n",
      " dense_8 (Dense)             (None, 10)                1010      \n",
      "                                                                 \n",
      "=================================================================\n",
      "Total params: 266,610\n",
      "Trainable params: 266,610\n",
      "Non-trainable params: 0\n",
      "_________________________________________________________________\n"
     ]
    }
   ],
   "source": [
    "model = tf.keras.Sequential([\n",
    "    tf.keras.layers.Flatten(input_shape=[28, 28]),\n",
    "    tf.keras.layers.Dense(300, activation=\"relu\"),\n",
    "    tf.keras.layers.Dense(100, activation=\"relu\"),\n",
    "    tf.keras.layers.Dense(10, activation=\"softmax\")\n",
    "])\n",
    "model.summary()"
   ]
  },
  {
   "cell_type": "code",
   "execution_count": 47,
   "metadata": {},
   "outputs": [],
   "source": [
    "model.compile(loss=\"sparse_categorical_crossentropy\",\n",
    "              optimizer=\"sgd\",\n",
    "              metrics=[\"accuracy\"])      "
   ]
  },
  {
   "cell_type": "code",
   "execution_count": 48,
   "metadata": {},
   "outputs": [
    {
     "name": "stdout",
     "output_type": "stream",
     "text": [
      "Epoch 1/30\n",
      "1719/1719 [==============================] - 8s 5ms/step - loss: 0.7306 - accuracy: 0.7615 - val_loss: 0.5278 - val_accuracy: 0.8150\n",
      "Epoch 2/30\n",
      "1719/1719 [==============================] - 8s 4ms/step - loss: 0.4879 - accuracy: 0.8311 - val_loss: 0.4424 - val_accuracy: 0.8396\n",
      "Epoch 3/30\n",
      "1719/1719 [==============================] - 8s 4ms/step - loss: 0.4431 - accuracy: 0.8468 - val_loss: 0.4298 - val_accuracy: 0.8478\n",
      "Epoch 4/30\n",
      "1719/1719 [==============================] - 8s 4ms/step - loss: 0.4152 - accuracy: 0.8555 - val_loss: 0.4136 - val_accuracy: 0.8498\n",
      "Epoch 5/30\n",
      "1719/1719 [==============================] - 8s 4ms/step - loss: 0.3951 - accuracy: 0.8635 - val_loss: 0.3848 - val_accuracy: 0.8582\n",
      "Epoch 6/30\n",
      "1719/1719 [==============================] - 8s 4ms/step - loss: 0.3780 - accuracy: 0.8680 - val_loss: 0.3769 - val_accuracy: 0.8658\n",
      "Epoch 7/30\n",
      "1719/1719 [==============================] - 8s 4ms/step - loss: 0.3645 - accuracy: 0.8720 - val_loss: 0.3788 - val_accuracy: 0.8668\n",
      "Epoch 8/30\n",
      "1719/1719 [==============================] - 8s 4ms/step - loss: 0.3516 - accuracy: 0.8758 - val_loss: 0.3609 - val_accuracy: 0.8694\n",
      "Epoch 9/30\n",
      "1719/1719 [==============================] - 8s 4ms/step - loss: 0.3421 - accuracy: 0.8791 - val_loss: 0.3451 - val_accuracy: 0.8754\n",
      "Epoch 10/30\n",
      "1719/1719 [==============================] - 8s 4ms/step - loss: 0.3328 - accuracy: 0.8825 - val_loss: 0.3521 - val_accuracy: 0.8748\n",
      "Epoch 11/30\n",
      "1719/1719 [==============================] - 8s 4ms/step - loss: 0.3240 - accuracy: 0.8854 - val_loss: 0.3521 - val_accuracy: 0.8766\n",
      "Epoch 12/30\n",
      "1719/1719 [==============================] - 8s 4ms/step - loss: 0.3157 - accuracy: 0.8882 - val_loss: 0.3381 - val_accuracy: 0.8786\n",
      "Epoch 13/30\n",
      "1719/1719 [==============================] - 8s 4ms/step - loss: 0.3087 - accuracy: 0.8907 - val_loss: 0.3434 - val_accuracy: 0.8738\n",
      "Epoch 14/30\n",
      "1719/1719 [==============================] - 8s 4ms/step - loss: 0.3015 - accuracy: 0.8925 - val_loss: 0.3648 - val_accuracy: 0.8654\n",
      "Epoch 15/30\n",
      "1719/1719 [==============================] - 8s 4ms/step - loss: 0.2955 - accuracy: 0.8948 - val_loss: 0.3236 - val_accuracy: 0.8818\n",
      "Epoch 16/30\n",
      "1719/1719 [==============================] - 8s 4ms/step - loss: 0.2880 - accuracy: 0.8975 - val_loss: 0.3361 - val_accuracy: 0.8780\n",
      "Epoch 17/30\n",
      "1719/1719 [==============================] - 8s 4ms/step - loss: 0.2824 - accuracy: 0.8988 - val_loss: 0.3304 - val_accuracy: 0.8780\n",
      "Epoch 18/30\n",
      "1719/1719 [==============================] - 7s 4ms/step - loss: 0.2772 - accuracy: 0.9008 - val_loss: 0.3276 - val_accuracy: 0.8814\n",
      "Epoch 19/30\n",
      "1719/1719 [==============================] - 167s 97ms/step - loss: 0.2713 - accuracy: 0.9033 - val_loss: 0.3257 - val_accuracy: 0.8830\n",
      "Epoch 20/30\n",
      "1719/1719 [==============================] - 8s 4ms/step - loss: 0.2656 - accuracy: 0.9044 - val_loss: 0.3323 - val_accuracy: 0.8798\n",
      "Epoch 21/30\n",
      "1719/1719 [==============================] - 8s 4ms/step - loss: 0.2611 - accuracy: 0.9059 - val_loss: 0.3176 - val_accuracy: 0.8836\n",
      "Epoch 22/30\n",
      "1719/1719 [==============================] - 8s 4ms/step - loss: 0.2553 - accuracy: 0.9080 - val_loss: 0.3262 - val_accuracy: 0.8842\n",
      "Epoch 23/30\n",
      "1719/1719 [==============================] - 8s 4ms/step - loss: 0.2520 - accuracy: 0.9098 - val_loss: 0.3341 - val_accuracy: 0.8806\n",
      "Epoch 24/30\n",
      "1719/1719 [==============================] - 8s 4ms/step - loss: 0.2466 - accuracy: 0.9114 - val_loss: 0.3182 - val_accuracy: 0.8860\n",
      "Epoch 25/30\n",
      "1719/1719 [==============================] - 8s 4ms/step - loss: 0.2413 - accuracy: 0.9130 - val_loss: 0.3173 - val_accuracy: 0.8912\n",
      "Epoch 26/30\n",
      "1719/1719 [==============================] - 8s 4ms/step - loss: 0.2385 - accuracy: 0.9149 - val_loss: 0.3037 - val_accuracy: 0.8900\n",
      "Epoch 27/30\n",
      "1719/1719 [==============================] - 8s 4ms/step - loss: 0.2342 - accuracy: 0.9167 - val_loss: 0.3281 - val_accuracy: 0.8826\n",
      "Epoch 28/30\n",
      "1719/1719 [==============================] - 8s 4ms/step - loss: 0.2298 - accuracy: 0.9176 - val_loss: 0.3220 - val_accuracy: 0.8824\n",
      "Epoch 29/30\n",
      "1719/1719 [==============================] - 8s 4ms/step - loss: 0.2263 - accuracy: 0.9182 - val_loss: 0.3261 - val_accuracy: 0.8796\n",
      "Epoch 30/30\n",
      "1719/1719 [==============================] - 8s 4ms/step - loss: 0.2226 - accuracy: 0.9202 - val_loss: 0.3530 - val_accuracy: 0.8782\n"
     ]
    }
   ],
   "source": [
    "import time\n",
    "Wtbofore = time.time_ns()\n",
    "cpubefore = time.process_time_ns()\n",
    "history = model.fit(X_train, y_train, epochs=30, validation_data=(X_valid, y_valid))"
   ]
  },
  {
   "cell_type": "code",
   "execution_count": 49,
   "metadata": {},
   "outputs": [
    {
     "name": "stdout",
     "output_type": "stream",
     "text": [
      "Wall Time: 400136143000 CPU Time: 336854278000\n"
     ]
    }
   ],
   "source": [
    "print(\"Wall Time:\",(time.time_ns()-Wtbofore),\"CPU Time:\",time.process_time_ns()-cpubefore)"
   ]
  },
  {
   "cell_type": "code",
   "execution_count": 7,
   "metadata": {},
   "outputs": [
    {
     "data": {
      "text/plain": [
       "{'loss': [0.7219311594963074,\n",
       "  0.4896271228790283,\n",
       "  0.4426136314868927,\n",
       "  0.41607239842414856,\n",
       "  0.394116073846817,\n",
       "  0.379914253950119,\n",
       "  0.3657817840576172,\n",
       "  0.35348719358444214,\n",
       "  0.34347087144851685,\n",
       "  0.3344762325286865,\n",
       "  0.32517436146736145,\n",
       "  0.3170083463191986,\n",
       "  0.30941179394721985,\n",
       "  0.30215054750442505,\n",
       "  0.2962495982646942,\n",
       "  0.28974318504333496,\n",
       "  0.28418397903442383,\n",
       "  0.27701351046562195,\n",
       "  0.2722567915916443,\n",
       "  0.2678401470184326,\n",
       "  0.2630671560764313,\n",
       "  0.25723087787628174,\n",
       "  0.2533494234085083,\n",
       "  0.24902503192424774,\n",
       "  0.24524284899234772,\n",
       "  0.2400585412979126,\n",
       "  0.23643262684345245,\n",
       "  0.2322089970111847,\n",
       "  0.22861039638519287,\n",
       "  0.22420364618301392],\n",
       " 'accuracy': [0.7612727284431458,\n",
       "  0.8301817774772644,\n",
       "  0.8460909128189087,\n",
       "  0.8554363250732422,\n",
       "  0.8617817759513855,\n",
       "  0.8667635917663574,\n",
       "  0.8710727095603943,\n",
       "  0.8762181401252747,\n",
       "  0.8774908781051636,\n",
       "  0.8816726803779602,\n",
       "  0.883618175983429,\n",
       "  0.8870726823806763,\n",
       "  0.8892181515693665,\n",
       "  0.8921818137168884,\n",
       "  0.8933999538421631,\n",
       "  0.8959999680519104,\n",
       "  0.8976545333862305,\n",
       "  0.9008545279502869,\n",
       "  0.9011454582214355,\n",
       "  0.9033635854721069,\n",
       "  0.9055454134941101,\n",
       "  0.9063817858695984,\n",
       "  0.9088727235794067,\n",
       "  0.9103817939758301,\n",
       "  0.9128181338310242,\n",
       "  0.9148363471031189,\n",
       "  0.9156363606452942,\n",
       "  0.9165090918540955,\n",
       "  0.918290913105011,\n",
       "  0.9198545217514038],\n",
       " 'val_loss': [0.534641444683075,\n",
       "  0.5256317853927612,\n",
       "  0.4412767291069031,\n",
       "  0.40825140476226807,\n",
       "  0.37754255533218384,\n",
       "  0.3779852092266083,\n",
       "  0.36385682225227356,\n",
       "  0.35873687267303467,\n",
       "  0.3513648808002472,\n",
       "  0.3419220745563507,\n",
       "  0.34398820996284485,\n",
       "  0.33574023842811584,\n",
       "  0.33521685004234314,\n",
       "  0.34446433186531067,\n",
       "  0.34643253684043884,\n",
       "  0.33038565516471863,\n",
       "  0.33498620986938477,\n",
       "  0.3250485956668854,\n",
       "  0.31374412775039673,\n",
       "  0.331097811460495,\n",
       "  0.3278350532054901,\n",
       "  0.31647345423698425,\n",
       "  0.32452625036239624,\n",
       "  0.3080163598060608,\n",
       "  0.3188747465610504,\n",
       "  0.31493768095970154,\n",
       "  0.30353251099586487,\n",
       "  0.3139883875846863,\n",
       "  0.32811102271080017,\n",
       "  0.343021422624588],\n",
       " 'val_accuracy': [0.8050000667572021,\n",
       "  0.8110000491142273,\n",
       "  0.8452000617980957,\n",
       "  0.8564000129699707,\n",
       "  0.8640000224113464,\n",
       "  0.8654000163078308,\n",
       "  0.8694000244140625,\n",
       "  0.8696000576019287,\n",
       "  0.8746000528335571,\n",
       "  0.8746000528335571,\n",
       "  0.8758000135421753,\n",
       "  0.8786000609397888,\n",
       "  0.8752000331878662,\n",
       "  0.8712000250816345,\n",
       "  0.8742000460624695,\n",
       "  0.8794000148773193,\n",
       "  0.8808000683784485,\n",
       "  0.8842000365257263,\n",
       "  0.8854000568389893,\n",
       "  0.8826000690460205,\n",
       "  0.8788000345230103,\n",
       "  0.883400022983551,\n",
       "  0.8824000358581543,\n",
       "  0.8856000304222107,\n",
       "  0.8848000168800354,\n",
       "  0.8850000500679016,\n",
       "  0.8914000391960144,\n",
       "  0.8874000310897827,\n",
       "  0.8802000284194946,\n",
       "  0.8776000142097473]}"
      ]
     },
     "execution_count": 7,
     "metadata": {},
     "output_type": "execute_result"
    }
   ],
   "source": [
    "history.history"
   ]
  },
  {
   "cell_type": "code",
   "execution_count": 10,
   "metadata": {},
   "outputs": [
    {
     "data": {
      "image/png": "[encoded data removed]",
      "text/plain": [
       "<Figure size 800x500 with 1 Axes>"
      ]
     },
     "metadata": {},
     "output_type": "display_data"
    }
   ],
   "source": [
    "import matplotlib.pyplot as plt\n",
    "import pandas as pd\n",
    "\n",
    "pd.DataFrame(history.history).plot(\n",
    "    figsize=(8, 5), xlim=[0, 29], ylim=[0, 1], grid=True, xlabel=\"Epoch\",\n",
    "    style=[\"r--\", \"r--.\", \"b-\", \"b-*\"])\n",
    "plt.show()"
   ]
  },
  {
   "cell_type": "code",
   "execution_count": 11,
   "metadata": {},
   "outputs": [
    {
     "name": "stdout",
     "output_type": "stream",
     "text": [
      "313/313 [==============================] - 1s 4ms/step - loss: 0.3574 - accuracy: 0.8733\n"
     ]
    },
    {
     "data": {
      "text/plain": [
       "[0.35743147134780884, 0.8733000159263611]"
      ]
     },
     "execution_count": 11,
     "metadata": {},
     "output_type": "execute_result"
    }
   ],
   "source": [
    "model.evaluate(X_test, y_test)"
   ]
  },
  {
   "cell_type": "code",
   "execution_count": 12,
   "metadata": {},
   "outputs": [
    {
     "name": "stdout",
     "output_type": "stream",
     "text": [
      "313/313 [==============================] - 0s 1ms/step\n"
     ]
    },
    {
     "data": {
      "text/plain": [
       "array([[0.  , 0.  , 0.  , ..., 0.03, 0.  , 0.97],\n",
       "       [0.  , 0.  , 1.  , ..., 0.  , 0.  , 0.  ],\n",
       "       [0.  , 1.  , 0.  , ..., 0.  , 0.  , 0.  ],\n",
       "       ...,\n",
       "       [0.  , 0.  , 0.01, ..., 0.  , 0.98, 0.  ],\n",
       "       [0.  , 1.  , 0.  , ..., 0.  , 0.  , 0.  ],\n",
       "       [0.  , 0.  , 0.  , ..., 0.03, 0.  , 0.  ]], dtype=float32)"
      ]
     },
     "execution_count": 12,
     "metadata": {},
     "output_type": "execute_result"
    }
   ],
   "source": [
    "X_new = X_test[:30]\n",
    "y_proba = model.predict(X_test)\n",
    "y_proba.round(2)"
   ]
  },
  {
   "cell_type": "code",
   "execution_count": 13,
   "metadata": {},
   "outputs": [
    {
     "name": "stdout",
     "output_type": "stream",
     "text": [
      "[9 0 0 ... 9 0 2]\n"
     ]
    }
   ],
   "source": [
    "# print(y_proba)\n",
    "print(y_train)"
   ]
  },
  {
   "cell_type": "code",
   "execution_count": 14,
   "metadata": {},
   "outputs": [
    {
     "data": {
      "text/plain": [
       "array([9, 2, 1, ..., 8, 1, 5])"
      ]
     },
     "execution_count": 14,
     "metadata": {},
     "output_type": "execute_result"
    }
   ],
   "source": [
    "import numpy as np\n",
    "y_pred = y_proba.argmax(axis=-1)\n",
    "y_pred"
   ]
  },
  {
   "cell_type": "code",
   "execution_count": 15,
   "metadata": {},
   "outputs": [
    {
     "data": {
      "text/plain": [
       "array(['Ankle boot', 'Pullover', 'Trouser', ..., 'Bag', 'Trouser',\n",
       "       'Sandal'], dtype='<U11')"
      ]
     },
     "execution_count": 15,
     "metadata": {},
     "output_type": "execute_result"
    }
   ],
   "source": [
    "np.array(class_names)[y_pred]"
   ]
  },
  {
   "cell_type": "code",
   "execution_count": 16,
   "metadata": {},
   "outputs": [
    {
     "data": {
      "text/plain": [
       "array([9, 2, 1, 1, 6, 1, 4, 6, 5, 7, 4, 5, 7, 3, 4, 1, 2, 4, 8, 0, 2, 5,\n",
       "       7, 9, 1, 4, 6, 0, 9, 3], dtype=uint8)"
      ]
     },
     "execution_count": 16,
     "metadata": {},
     "output_type": "execute_result"
    }
   ],
   "source": [
    "y_new = y_test[:30]\n",
    "y_new"
   ]
  },
  {
   "cell_type": "code",
   "execution_count": 18,
   "metadata": {},
   "outputs": [
    {
     "name": "stdout",
     "output_type": "stream",
     "text": [
      "Precision Score:  [0.80182648 0.98580122 0.64590623 0.87671233 0.84596273 0.97556008\n",
      " 0.81575037 0.92652672 0.97258883 0.97128205] \n",
      "recall [0.878 0.972 0.923 0.896 0.681 0.958 0.549 0.971 0.958 0.947] \n",
      "Accuracy Score 0.8733\n"
     ]
    }
   ],
   "source": [
    "from sklearn.metrics import precision_recall_fscore_support\n",
    "from sklearn.metrics import accuracy_score, precision_score,recall_score\n",
    "precision_recall_fscore_support(y_test, y_pred, average=None)\n",
    "precision = precision_score(y_test, y_pred, average= None)\n",
    "recall = recall_score(y_test, y_pred, average= None)\n",
    "accuracy = accuracy_score(y_test,y_pred)\n",
    "print(\"Precision Score: \",precision, \"\\nrecall\", recall,\"\\nAccuracy Score\",accuracy)\n"
   ]
  },
  {
   "cell_type": "code",
   "execution_count": 19,
   "metadata": {},
   "outputs": [
    {
     "name": "stdout",
     "output_type": "stream",
     "text": [
      "              precision    recall  f1-score   support\n",
      "\n",
      " T-shirt/top       0.80      0.88      0.84      1000\n",
      "     Trouser       0.99      0.97      0.98      1000\n",
      "    Pullover       0.65      0.92      0.76      1000\n",
      "       Dress       0.88      0.90      0.89      1000\n",
      "        Coat       0.85      0.68      0.75      1000\n",
      "      Sandal       0.98      0.96      0.97      1000\n",
      "       Shirt       0.82      0.55      0.66      1000\n",
      "     Sneaker       0.93      0.97      0.95      1000\n",
      "         Bag       0.97      0.96      0.97      1000\n",
      "  Ankle boot       0.97      0.95      0.96      1000\n",
      "\n",
      "    accuracy                           0.87     10000\n",
      "   macro avg       0.88      0.87      0.87     10000\n",
      "weighted avg       0.88      0.87      0.87     10000\n",
      "\n"
     ]
    }
   ],
   "source": [
    "from sklearn.metrics import classification_report\n",
    "print(classification_report(y_test, y_pred, target_names=class_names))"
   ]
  },
  {
   "attachments": {},
   "cell_type": "markdown",
   "metadata": {},
   "source": [
    "# Question 3 \n",
    "create a convolution neural network using the Fashion MNIST network"
   ]
  },
  {
   "cell_type": "code",
   "execution_count": 20,
   "metadata": {},
   "outputs": [],
   "source": [
    "from sklearn.datasets import load_sample_images\n",
    "import tensorflow as tf\n",
    "\n",
    "images = load_sample_images()[\"images\"]\n",
    "images = tf.keras.layers.CenterCrop(height=70, width=120)(images)\n",
    "images = tf.keras.layers.Rescaling(scale=1 / 255)(images)"
   ]
  },
  {
   "cell_type": "code",
   "execution_count": 21,
   "metadata": {},
   "outputs": [
    {
     "data": {
      "text/plain": [
       "TensorShape([2, 70, 120, 3])"
      ]
     },
     "execution_count": 21,
     "metadata": {},
     "output_type": "execute_result"
    }
   ],
   "source": [
    "images.shape"
   ]
  },
  {
   "cell_type": "code",
   "execution_count": 22,
   "metadata": {},
   "outputs": [],
   "source": [
    "conv_layer = tf.keras.layers.Conv2D(filters=32, kernel_size=7)\n",
    "fmaps = conv_layer(images)"
   ]
  },
  {
   "cell_type": "code",
   "execution_count": 23,
   "metadata": {},
   "outputs": [
    {
     "data": {
      "text/plain": [
       "TensorShape([2, 64, 114, 32])"
      ]
     },
     "execution_count": 23,
     "metadata": {},
     "output_type": "execute_result"
    }
   ],
   "source": [
    "fmaps.shape"
   ]
  },
  {
   "cell_type": "code",
   "execution_count": 24,
   "metadata": {},
   "outputs": [
    {
     "data": {
      "text/plain": [
       "TensorShape([2, 70, 120, 32])"
      ]
     },
     "execution_count": 24,
     "metadata": {},
     "output_type": "execute_result"
    }
   ],
   "source": [
    "conv_layer = tf.keras.layers.Conv2D(filters=32, kernel_size=7, padding=\"same\")\n",
    "fmaps = conv_layer(images)\n",
    "fmaps.shape"
   ]
  },
  {
   "cell_type": "code",
   "execution_count": 25,
   "metadata": {},
   "outputs": [
    {
     "data": {
      "text/plain": [
       "(7, 7, 3, 32)"
      ]
     },
     "execution_count": 25,
     "metadata": {},
     "output_type": "execute_result"
    }
   ],
   "source": [
    "kernels, biases = conv_layer.get_weights()\n",
    "kernels.shape"
   ]
  },
  {
   "cell_type": "code",
   "execution_count": 26,
   "metadata": {},
   "outputs": [
    {
     "data": {
      "text/plain": [
       "(32,)"
      ]
     },
     "execution_count": 26,
     "metadata": {},
     "output_type": "execute_result"
    }
   ],
   "source": [
    "biases.shape"
   ]
  },
  {
   "cell_type": "code",
   "execution_count": 27,
   "metadata": {},
   "outputs": [],
   "source": [
    "mnist = tf.keras.datasets.fashion_mnist.load_data()\n",
    "(X_train_full, y_train_full), (X_test, y_test) = mnist\n",
    "X_train_full = np.expand_dims(X_train_full, axis=-1).astype(np.float32) / 255\n",
    "X_test = np.expand_dims(X_test.astype(np.float32), axis=-1) / 255\n",
    "X_train, X_valid = X_train_full[:-5000], X_train_full[-5000:]\n",
    "y_train, y_valid = y_train_full[:-5000], y_train_full[-5000:]"
   ]
  },
  {
   "cell_type": "code",
   "execution_count": 28,
   "metadata": {},
   "outputs": [
    {
     "name": "stdout",
     "output_type": "stream",
     "text": [
      "Model: \"sequential_1\"\n",
      "_________________________________________________________________\n",
      " Layer (type)                Output Shape              Param #   \n",
      "=================================================================\n",
      " conv2d_2 (Conv2D)           (None, 28, 28, 64)        3200      \n",
      "                                                                 \n",
      " max_pooling2d (MaxPooling2D  (None, 14, 14, 64)       0         \n",
      " )                                                               \n",
      "                                                                 \n",
      " conv2d_3 (Conv2D)           (None, 14, 14, 128)       73856     \n",
      "                                                                 \n",
      " conv2d_4 (Conv2D)           (None, 14, 14, 128)       147584    \n",
      "                                                                 \n",
      " max_pooling2d_1 (MaxPooling  (None, 7, 7, 128)        0         \n",
      " 2D)                                                             \n",
      "                                                                 \n",
      " conv2d_5 (Conv2D)           (None, 7, 7, 256)         295168    \n",
      "                                                                 \n",
      " conv2d_6 (Conv2D)           (None, 7, 7, 256)         590080    \n",
      "                                                                 \n",
      " max_pooling2d_2 (MaxPooling  (None, 3, 3, 256)        0         \n",
      " 2D)                                                             \n",
      "                                                                 \n",
      " flatten_1 (Flatten)         (None, 2304)              0         \n",
      "                                                                 \n",
      " dense_3 (Dense)             (None, 128)               295040    \n",
      "                                                                 \n",
      " dropout (Dropout)           (None, 128)               0         \n",
      "                                                                 \n",
      " dense_4 (Dense)             (None, 64)                8256      \n",
      "                                                                 \n",
      " dropout_1 (Dropout)         (None, 64)                0         \n",
      "                                                                 \n",
      " dense_5 (Dense)             (None, 10)                650       \n",
      "                                                                 \n",
      "=================================================================\n",
      "Total params: 1,413,834\n",
      "Trainable params: 1,413,834\n",
      "Non-trainable params: 0\n",
      "_________________________________________________________________\n"
     ]
    }
   ],
   "source": [
    "from functools import partial\n",
    "DefaultConv2D = partial(tf.keras.layers.Conv2D, kernel_size=3, padding=\"same\", activation=\"relu\", kernel_initializer=\"he_normal\")\n",
    "model = tf.keras.Sequential([\n",
    "    DefaultConv2D(filters=64, kernel_size=7, input_shape=[28, 28, 1]),\n",
    "    tf.keras.layers.MaxPool2D(),\n",
    "    DefaultConv2D(filters=128),\n",
    "    DefaultConv2D(filters=128),\n",
    "    tf.keras.layers.MaxPool2D(),\n",
    "    DefaultConv2D(filters=256),\n",
    "    DefaultConv2D(filters=256),\n",
    "    tf.keras.layers.MaxPool2D(),\n",
    "    tf.keras.layers.Flatten(),\n",
    "    tf.keras.layers.Dense(units=128, activation=\"relu\", kernel_initializer=\"he_normal\"),\n",
    "    tf.keras.layers.Dropout(0.5),\n",
    "    tf.keras.layers.Dense(units=64, activation=\"relu\", kernel_initializer=\"he_normal\"),\n",
    "    tf.keras.layers.Dropout(0.5),\n",
    "    tf.keras.layers.Dense(units=10, activation=\"softmax\")\n",
    "])\n",
    "model.summary()"
   ]
  },
  {
   "cell_type": "code",
   "execution_count": 29,
   "metadata": {},
   "outputs": [],
   "source": [
    "model.compile(loss=\"sparse_categorical_crossentropy\", optimizer=\"nadam\", metrics=[\"accuracy\"])\n"
   ]
  },
  {
   "cell_type": "code",
   "execution_count": 30,
   "metadata": {},
   "outputs": [
    {
     "name": "stdout",
     "output_type": "stream",
     "text": [
      "Epoch 1/10\n",
      "1719/1719 [==============================] - 37s 20ms/step - loss: 0.6001 - accuracy: 0.7922 - val_loss: 0.3321 - val_accuracy: 0.8792\n",
      "Epoch 2/10\n",
      "1719/1719 [==============================] - 33s 19ms/step - loss: 0.3196 - accuracy: 0.8863 - val_loss: 0.2626 - val_accuracy: 0.9042\n",
      "Epoch 3/10\n",
      "1719/1719 [==============================] - 34s 20ms/step - loss: 0.2711 - accuracy: 0.9031 - val_loss: 0.2618 - val_accuracy: 0.9044\n",
      "Epoch 4/10\n",
      "1719/1719 [==============================] - 34s 20ms/step - loss: 0.2427 - accuracy: 0.9130 - val_loss: 0.2453 - val_accuracy: 0.9066\n",
      "Epoch 5/10\n",
      "1719/1719 [==============================] - 44s 26ms/step - loss: 0.2234 - accuracy: 0.9200 - val_loss: 0.2474 - val_accuracy: 0.9108\n",
      "Epoch 6/10\n",
      "1719/1719 [==============================] - 34s 20ms/step - loss: 0.2047 - accuracy: 0.9256 - val_loss: 0.2381 - val_accuracy: 0.9130\n",
      "Epoch 7/10\n",
      "1719/1719 [==============================] - 35s 20ms/step - loss: 0.1894 - accuracy: 0.9314 - val_loss: 0.2362 - val_accuracy: 0.9140\n",
      "Epoch 8/10\n",
      "1719/1719 [==============================] - 35s 20ms/step - loss: 0.1787 - accuracy: 0.9353 - val_loss: 0.2473 - val_accuracy: 0.9154\n",
      "Epoch 9/10\n",
      "1719/1719 [==============================] - 35s 20ms/step - loss: 0.1732 - accuracy: 0.9374 - val_loss: 0.2444 - val_accuracy: 0.9152\n",
      "Epoch 10/10\n",
      "1719/1719 [==============================] - 35s 20ms/step - loss: 0.1585 - accuracy: 0.9441 - val_loss: 0.2356 - val_accuracy: 0.9138\n"
     ]
    }
   ],
   "source": [
    "Wtbofore2 = time.time_ns()\n",
    "cpubefore2 = time.process_time_ns()\n",
    "history = model.fit(X_train, y_train, epochs=10, validation_data=(X_valid, y_valid))"
   ]
  },
  {
   "cell_type": "code",
   "execution_count": 31,
   "metadata": {},
   "outputs": [
    {
     "name": "stdout",
     "output_type": "stream",
     "text": [
      "Wall Time: 358967151000 CPU Time: 482145607000\n"
     ]
    }
   ],
   "source": [
    "print(\"Wall Time:\",time.time_ns()-Wtbofore2,\"CPU Time:\",time.process_time_ns()-cpubefore2)"
   ]
  },
  {
   "cell_type": "code",
   "execution_count": 32,
   "metadata": {},
   "outputs": [
    {
     "name": "stdout",
     "output_type": "stream",
     "text": [
      "313/313 [==============================] - 3s 8ms/step - loss: 0.2755 - accuracy: 0.9095\n"
     ]
    }
   ],
   "source": [
    "score = model.evaluate(X_test, y_test)"
   ]
  },
  {
   "cell_type": "code",
   "execution_count": 33,
   "metadata": {},
   "outputs": [
    {
     "data": {
      "image/png": "[encoded data removed]",
      "text/plain": [
       "<Figure size 800x500 with 1 Axes>"
      ]
     },
     "metadata": {},
     "output_type": "display_data"
    }
   ],
   "source": [
    "import matplotlib.pyplot as plt\n",
    "import pandas as pd\n",
    "\n",
    "pd.DataFrame(history.history).plot(\n",
    "    figsize=(8, 5), xlim=[0, 10], ylim=[0, 1], grid=True, xlabel=\"Epoch\",\n",
    "    style=[\"r--\", \"r--.\", \"b-\", \"b-*\"])\n",
    "plt.show()"
   ]
  },
  {
   "cell_type": "code",
   "execution_count": 34,
   "metadata": {},
   "outputs": [
    {
     "name": "stdout",
     "output_type": "stream",
     "text": [
      "313/313 [==============================] - 2s 5ms/step\n"
     ]
    },
    {
     "data": {
      "text/plain": [
       "array([[0.  , 0.  , 0.  , ..., 0.  , 0.  , 1.  ],\n",
       "       [0.  , 0.  , 0.99, ..., 0.  , 0.  , 0.  ],\n",
       "       [0.  , 1.  , 0.  , ..., 0.  , 0.  , 0.  ],\n",
       "       ...,\n",
       "       [0.  , 0.  , 0.  , ..., 0.  , 1.  , 0.  ],\n",
       "       [0.  , 1.  , 0.  , ..., 0.  , 0.  , 0.  ],\n",
       "       [0.  , 0.  , 0.  , ..., 0.16, 0.  , 0.  ]], dtype=float32)"
      ]
     },
     "execution_count": 34,
     "metadata": {},
     "output_type": "execute_result"
    }
   ],
   "source": [
    "y_proba2 = model.predict(X_test)\n",
    "y_proba2.round(2)"
   ]
  },
  {
   "cell_type": "code",
   "execution_count": 35,
   "metadata": {},
   "outputs": [
    {
     "data": {
      "text/plain": [
       "array([9, 2, 1, ..., 8, 1, 5])"
      ]
     },
     "execution_count": 35,
     "metadata": {},
     "output_type": "execute_result"
    }
   ],
   "source": [
    "import numpy as np\n",
    "y_pred2 = y_proba2.argmax(axis=-1)\n",
    "y_pred2"
   ]
  },
  {
   "cell_type": "code",
   "execution_count": 36,
   "metadata": {},
   "outputs": [
    {
     "name": "stdout",
     "output_type": "stream",
     "text": [
      "Precision Score:  [0.80182648 0.98580122 0.64590623 0.87671233 0.84596273 0.97556008\n",
      " 0.81575037 0.92652672 0.97258883 0.97128205] \n",
      "Recall Score [0.878 0.972 0.923 0.896 0.681 0.958 0.549 0.971 0.958 0.947] \n",
      "Accuracy Score 0.8733\n"
     ]
    }
   ],
   "source": [
    "from sklearn.metrics import precision_recall_fscore_support\n",
    "precision2 = precision_score(y_test, y_pred2, average= None)\n",
    "recall2 = recall_score(y_test, y_pred2, average= None)\n",
    "accuracy2 = accuracy_score(y_test,y_pred2)\n",
    "print(\"Precision Score: \",precision, \"\\nRecall Score\", recall,\"\\nAccuracy Score\",accuracy)"
   ]
  },
  {
   "cell_type": "code",
   "execution_count": 37,
   "metadata": {},
   "outputs": [
    {
     "name": "stdout",
     "output_type": "stream",
     "text": [
      "              precision    recall  f1-score   support\n",
      "\n",
      " T-shirt/top       0.84      0.88      0.86      1000\n",
      "     Trouser       0.99      0.99      0.99      1000\n",
      "    Pullover       0.87      0.85      0.86      1000\n",
      "       Dress       0.89      0.92      0.90      1000\n",
      "        Coat       0.82      0.88      0.85      1000\n",
      "      Sandal       0.99      0.98      0.98      1000\n",
      "       Shirt       0.78      0.67      0.72      1000\n",
      "     Sneaker       0.95      0.98      0.97      1000\n",
      "         Bag       0.98      0.98      0.98      1000\n",
      "  Ankle boot       0.98      0.96      0.97      1000\n",
      "\n",
      "    accuracy                           0.91     10000\n",
      "   macro avg       0.91      0.91      0.91     10000\n",
      "weighted avg       0.91      0.91      0.91     10000\n",
      "\n"
     ]
    }
   ],
   "source": [
    "from sklearn.metrics import classification_report\n",
    "print(classification_report(y_test, y_pred2, target_names=class_names))"
   ]
  }
 ],
 "metadata": {
  "kernelspec": {
   "display_name": "base",
   "language": "python",
   "name": "python3"
  },
  "language_info": {
   "codemirror_mode": {
    "name": "ipython",
    "version": 3
   },
   "file_extension": ".py",
   "mimetype": "text/x-python",
   "name": "python",
   "nbconvert_exporter": "python",
   "pygments_lexer": "ipython3",
   "version": "3.10.9"
  },
  "orig_nbformat": 4
 },
 "nbformat": 4,
 "nbformat_minor": 2
}
